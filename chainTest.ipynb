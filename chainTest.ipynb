{
 "cells": [
  {
   "cell_type": "code",
   "execution_count": null,
   "metadata": {},
   "outputs": [],
   "source": [
    "from langchain.utilities import SerpAPIWrapper"
   ]
  },
  {
   "cell_type": "code",
   "execution_count": 46,
   "metadata": {},
   "outputs": [],
   "source": [
    "from langchain.chains import SequentialChain\n",
    "from langchain.llms import OpenAI\n",
    "from langchain.chains import LLMChain\n",
    "from langchain.prompts import PromptTemplate"
   ]
  },
  {
   "cell_type": "code",
   "execution_count": 45,
   "metadata": {},
   "outputs": [
    {
     "data": {
      "text/plain": [
       "'What causes rain? Clouds are made of water droplets. Within a cloud, water droplets condense onto one another, causing the droplets to grow. When these water droplets get too heavy to stay suspended in the cloud, they fall to Earth as rain.'"
      ]
     },
     "execution_count": 45,
     "metadata": {},
     "output_type": "execute_result"
    }
   ],
   "source": [
    "# test out the wrapper\n",
    "search = SerpAPIWrapper()\n",
    "search.run(\"How is rain generated?\")"
   ]
  },
  {
   "cell_type": "code",
   "execution_count": 53,
   "metadata": {},
   "outputs": [
    {
     "name": "stdout",
     "output_type": "stream",
     "text": [
      "\n",
      "\n",
      "\u001b[1m> Entering new LLMChain chain...\u001b[0m\n",
      "Prompt after formatting:\n",
      "\u001b[32;1m\u001b[1;3m\n",
      "You are trying to give me a most used product for wallets with rfid protection\n",
      "\n",
      "Here is just the name for the product:\n",
      "\u001b[0m\n",
      "\n",
      "\u001b[1m> Finished chain.\u001b[0m\n",
      "Travelambo RFID Blocking Wallet.\n"
     ]
    }
   ],
   "source": [
    "# setup something that converts my question into a good google query\n",
    "template = \"\"\"\n",
    "You are trying to give me a most used product for {category}\n",
    "\n",
    "Here is just the name for the product:\n",
    "\"\"\"\n",
    "prompt = PromptTemplate(template=template, input_variables=[\"category\"])\n",
    "llm_chain = LLMChain(prompt=prompt, llm=OpenAI(temperature=0), verbose=True, output_key=\"product\")\n",
    "\n",
    "category = \"wallets with rfid protection\"\n",
    "response = llm_chain.predict(category=category)\n",
    "print(response)\n"
   ]
  },
  {
   "cell_type": "code",
   "execution_count": 55,
   "metadata": {},
   "outputs": [
    {
     "name": "stdout",
     "output_type": "stream",
     "text": [
      "\n",
      "\n",
      "\u001b[1m> Entering new SequentialChain chain...\u001b[0m\n",
      "\n",
      "\n",
      "\u001b[1m> Entering new LLMChain chain...\u001b[0m\n",
      "Prompt after formatting:\n",
      "\u001b[32;1m\u001b[1;3m\n",
      "You are trying to give me a most used product for rfid protected wallets\n",
      "\n",
      "Here is just the name for the product:\n",
      "\u001b[0m\n",
      "\n",
      "\u001b[1m> Finished chain.\u001b[0m\n",
      "\n",
      "\n",
      "\u001b[1m> Entering new LLMChain chain...\u001b[0m\n",
      "Prompt after formatting:\n",
      "\u001b[32;1m\u001b[1;3m\n",
      "summarize why RFID Blocking Wallet. is awesome\n",
      "\u001b[0m\n",
      "\n",
      "\u001b[1m> Finished chain.\u001b[0m\n",
      "\n",
      "\u001b[1m> Finished chain.\u001b[0m\n",
      "\n",
      "RFID Blocking Wallet is an awesome product because it provides an extra layer of security for your personal information. It blocks RFID signals from being read by scanners, preventing thieves from stealing your credit card information or other sensitive data. The wallet is also lightweight and slim, making it easy to carry and store in your pocket or purse. Additionally, it is made of durable materials, ensuring it will last for years to come.\n"
     ]
    }
   ],
   "source": [
    "# setup something that converts my question into a good google query\n",
    "template = \"\"\"\n",
    "summarize why {product} is awesome\n",
    "\"\"\"\n",
    "prompt = PromptTemplate(template=template, input_variables=[\"product\"])\n",
    "llm_chain_v2 = LLMChain(prompt=prompt, llm=OpenAI(temperature=0), verbose=True, output_key=\"response\")\n",
    "\n",
    "overall_chain = SequentialChain(chains=[llm_chain, llm_chain_v2], \n",
    "                                input_variables=[\"category\"],\n",
    "                                output_variables=[\"product\", \"response\"],\n",
    "                                verbose=True)\n",
    "response = overall_chain({\"category\":\"rfid protected wallets\"})\n",
    "print(response[\"response\"])"
   ]
  },
  {
   "cell_type": "code",
   "execution_count": 56,
   "metadata": {},
   "outputs": [
    {
     "data": {
      "text/plain": [
       "'\"In this valuable book, April Dunford proves that products can be transformed by changing their context. Obviously Awesome is a must-read for any founder, ...'"
      ]
     },
     "execution_count": 56,
     "metadata": {},
     "output_type": "execute_result"
    }
   ],
   "source": [
    "search = SerpAPIWrapper()\n",
    "search.run(\"Why {product} is awesome?\")"
   ]
  },
  {
   "cell_type": "code",
   "execution_count": 58,
   "metadata": {},
   "outputs": [],
   "source": [
    "from langchain.agents import load_tools\n",
    "from langchain.agents import initialize_agent"
   ]
  },
  {
   "cell_type": "code",
   "execution_count": null,
   "metadata": {},
   "outputs": [],
   "source": [
    "text = \"\"\"\n",
    "What is the estimated net annual recurring revenue of Cisco? Using this number, calculate how many 2020 Nissan Altima S you can buy?\n",
    "\"\"\"\n",
    "llm = OpenAI(temperature=0)\n",
    "tools = load_tools([\"serpapi\"], llm=llm)\n",
    "agent = initialize_agent(tools, llm, agent=\"zero-shot-react-description\", verbose=True)\n",
    "agent.run(text)"
   ]
  },
  {
   "cell_type": "code",
   "execution_count": 67,
   "metadata": {},
   "outputs": [
    {
     "name": "stdout",
     "output_type": "stream",
     "text": [
      "\n",
      "\n",
      "\u001b[1m> Entering new AgentExecutor chain...\u001b[0m\n",
      "\u001b[32;1m\u001b[1;3m Yes.\n",
      "Follow up: What is the estimated net worth of Jay Z?\u001b[0m\n",
      "Intermediate answer: \u001b[36;1m\u001b[1;3m2.5 billion USD\u001b[0m\n",
      "\u001b[32;1m\u001b[1;3mFollow up: How much does a 2020 Nissan Altima S cost?\u001b[0m\n",
      "Intermediate answer: \u001b[36;1m\u001b[1;3mThe 2020 Altima has a starting MSRP1 of $24,100 for the Altima S front-wheel drive grade and $25,450 for Altima S with Intelligent All-Wheel Drive. Both come equipped with a standard 2.5-liter engine. The 2020 Altima is also available with Nissan's advanced 2.0-liter VC-Turbo engine (front-wheel drive only).\u001b[0m\n",
      "\u001b[32;1m\u001b[1;3mSo the final answer is: You can buy 104,166 2020 Nissan Altima S with Jay Z's estimated net worth of 2.5 billion USD.\u001b[0m\n",
      "\n",
      "\u001b[1m> Finished chain.\u001b[0m\n"
     ]
    },
    {
     "data": {
      "text/plain": [
       "\"You can buy 104,166 2020 Nissan Altima S with Jay Z's estimated net worth of 2.5 billion USD.\""
      ]
     },
     "execution_count": 67,
     "metadata": {},
     "output_type": "execute_result"
    }
   ],
   "source": [
    "# SerpAI Intermediate Answer\n",
    "from langchain.agents import Tool\n",
    "\n",
    "text = \"\"\"\n",
    "What is the estimated net worth of Jay Z? Using this number, calculate how many 2020 Nissan Altima S you can buy?\n",
    "\"\"\"\n",
    "\n",
    "search = SerpAPIWrapper()\n",
    "tool = [\n",
    "    Tool(name=\"Intermediate Answer\",\n",
    "        func=search.run,\n",
    "        description=\"\")\n",
    "]\n",
    "\n",
    "llm = OpenAI(temperature=0)\n",
    "# tools = load_tools([\"serpapi\"], llm=llm)\n",
    "agent = initialize_agent(tool, llm, agent=\"self-ask-with-search\", verbose=True)\n",
    "agent.run(text)"
   ]
  },
  {
   "attachments": {},
   "cell_type": "markdown",
   "metadata": {},
   "source": [
    "ToDo: build a custom agent\n",
    "\n",
    "ToDo: do document loading\n",
    "\n",
    "ToDo: add memory"
   ]
  }
 ],
 "metadata": {
  "kernelspec": {
   "display_name": "base",
   "language": "python",
   "name": "python3"
  },
  "language_info": {
   "codemirror_mode": {
    "name": "ipython",
    "version": 3
   },
   "file_extension": ".py",
   "mimetype": "text/x-python",
   "name": "python",
   "nbconvert_exporter": "python",
   "pygments_lexer": "ipython3",
   "version": "3.9.13"
  },
  "orig_nbformat": 4
 },
 "nbformat": 4,
 "nbformat_minor": 2
}
